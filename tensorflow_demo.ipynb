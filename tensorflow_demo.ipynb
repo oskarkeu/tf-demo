{
 "cells": [
  {
   "cell_type": "code",
   "execution_count": 1,
   "metadata": {
    "collapsed": true
   },
   "outputs": [],
   "source": [
    "# Import necessary libraries\n",
    "import tensorflow as tf # Machine learning library\n",
    "import csv\n",
    "import numpy as np # Math library\n",
    "import matplotlib.pyplot as plt # Plotting library"
   ]
  },
  {
   "cell_type": "markdown",
   "metadata": {},
   "source": [
    "In this simple example, we construct a tensorflow model to predict dangerous situations from raw sensor data."
   ]
  },
  {
   "cell_type": "markdown",
   "metadata": {},
   "source": [
    "# Part 1: Load sensor data"
   ]
  },
  {
   "cell_type": "code",
   "execution_count": 2,
   "metadata": {
    "collapsed": true
   },
   "outputs": [],
   "source": [
    "# Open file with data from one sensor\n",
    "filepath = '/Users/oskar/Downloads/test_data_1.csv'\n",
    "f = open(filepath, 'r')"
   ]
  },
  {
   "cell_type": "code",
   "execution_count": 3,
   "metadata": {
    "collapsed": true
   },
   "outputs": [],
   "source": [
    "# Read data into python variable\n",
    "reader = csv.reader(f, delimiter=',')"
   ]
  },
  {
   "cell_type": "code",
   "execution_count": 4,
   "metadata": {},
   "outputs": [],
   "source": [
    "# Get values from first column and all rows (i.e. temperature)\n",
    "values = [float(r[:][0]) for r in reader]"
   ]
  },
  {
   "cell_type": "code",
   "execution_count": 5,
   "metadata": {},
   "outputs": [
    {
     "data": {
      "text/plain": [
       "<matplotlib.collections.PathCollection at 0x102778110>"
      ]
     },
     "execution_count": 5,
     "metadata": {},
     "output_type": "execute_result"
    }
   ],
   "source": [
    "# Make a scatter plot of time vs. temperature\n",
    "plt.scatter(range(len(values)), values)"
   ]
  },
  {
   "cell_type": "code",
   "execution_count": 6,
   "metadata": {},
   "outputs": [
    {
     "data": {
      "image/png": "[encoded data removed]",
      "text/plain": [
       "<matplotlib.figure.Figure at 0x11616b190>"
      ]
     },
     "metadata": {},
     "output_type": "display_data"
    }
   ],
   "source": [
    "plt.show()"
   ]
  },
  {
   "cell_type": "markdown",
   "metadata": {},
   "source": [
    "# Part 2: Data pre-processing"
   ]
  },
  {
   "cell_type": "markdown",
   "metadata": {},
   "source": [
    "This is the part where we define what we want out model to do. Imagine a situation where we have recorded data, where the rapid increase in temperature is considered a hazardous situation. This would be easy to code by hand, but imagine a situation where we have hundreds of sensors and we only know what the raw sensor values have been during past/simulated hazardous situations. In that case we would need a robust model able to generalize to new and high-dimensional data.\n",
    "\n",
    "In this case, we consider data points below 24 degrees to be in the \"hazard\" zone. We do not want the model to learn just based on the observed values (that would be trivial), but rather based on the kind change with respect to the surrounding data points."
   ]
  },
  {
   "cell_type": "code",
   "execution_count": 7,
   "metadata": {},
   "outputs": [],
   "source": [
    "# Make each data point into a vector of surrounding data points. \n",
    "# If you have many sensors, you can e.g. concatenate all the sensor values into one big vector.\n",
    "data = [values[i-5:i+5] for i in range(10, len(values) - 10)]"
   ]
  },
  {
   "cell_type": "code",
   "execution_count": 8,
   "metadata": {},
   "outputs": [],
   "source": [
    "# We make our labels into \"one-hot vectors\" i.e. [1 0] denotes hazard situation and [0 1] normal situation\n",
    "labels = np.array([np.array([1, 0]) if i < 24 else np.array([0, 1]) for i in values[10:len(values)-10]])"
   ]
  },
  {
   "cell_type": "markdown",
   "metadata": {},
   "source": [
    "# Part 3: Define model to detect danger"
   ]
  },
  {
   "cell_type": "markdown",
   "metadata": {},
   "source": [
    "We are using a neural network with two hidden layers to classify the temperature values. A neural network consists of many \"layers\" of non linear functions. Each layer has learnable parameters that get adjusted during training. This is done by computing gradients and applying the error back propagation algorithm, but tensorflow makes this very easy for us."
   ]
  },
  {
   "cell_type": "code",
   "execution_count": 10,
   "metadata": {
    "collapsed": true
   },
   "outputs": [],
   "source": [
    "hidden_units = 10 # How many \"neurons\" in each hidden layer\n",
    "learning_rate = 1e-4 # How fast we learn (How much we update our learning parameters in each iteration)\n",
    "input_size = 10 # We have a vector of 10 surrounding data points for each data point\n",
    "output_size = 2 # We have 2 classes (danger and no danger)"
   ]
  },
  {
   "cell_type": "code",
   "execution_count": 11,
   "metadata": {},
   "outputs": [],
   "source": [
    "inputs = tf.placeholder(tf.float32, [None, input_size]) # Symbolic input to tf graph\n",
    "lab = tf.placeholder(tf.float32, [None, output_size]) # Symbolic label to tf graph"
   ]
  },
  {
   "cell_type": "code",
   "execution_count": 12,
   "metadata": {},
   "outputs": [],
   "source": [
    "W = tf.Variable(tf.truncated_normal(shape=[input_size, hidden_units])) # Weights for first layer\n",
    "b = tf.Variable(tf.constant(0.1, shape=[1, hidden_units])) # Bias for first layer"
   ]
  },
  {
   "cell_type": "code",
   "execution_count": 13,
   "metadata": {
    "collapsed": true
   },
   "outputs": [],
   "source": [
    "W1 = tf.Variable(tf.truncated_normal(shape=[hidden_units, hidden_units]))\n",
    "b1 = tf.Variable(tf.constant(0.1, shape=[1,hidden_units]))"
   ]
  },
  {
   "cell_type": "code",
   "execution_count": 14,
   "metadata": {},
   "outputs": [],
   "source": [
    "out_weights = tf.Variable(tf.truncated_normal(shape=[hidden_units, output_size]))\n",
    "out_bias = tf.Variable(tf.constant(0.1, shape=[1,output_size]))"
   ]
  },
  {
   "cell_type": "code",
   "execution_count": 15,
   "metadata": {},
   "outputs": [],
   "source": [
    "# One layer consists of multiplication with weight matrix, addition of bias and a non-linear function\n",
    "hidden_layer = tf.nn.sigmoid(tf.matmul(inputs, W) + b)"
   ]
  },
  {
   "cell_type": "code",
   "execution_count": 16,
   "metadata": {},
   "outputs": [],
   "source": [
    "hidden_layer_2 = tf.nn.sigmoid(tf.matmul(hidden_layer, W1) + b1)"
   ]
  },
  {
   "cell_type": "code",
   "execution_count": 17,
   "metadata": {
    "collapsed": true
   },
   "outputs": [],
   "source": [
    "# The last layer is the output of the model\n",
    "output = tf.matmul(hidden_layer_2, out_weights) + out_bias"
   ]
  },
  {
   "cell_type": "code",
   "execution_count": 18,
   "metadata": {},
   "outputs": [],
   "source": [
    "# Define loss function (measure of how close predictions are to labels)\n",
    "loss = tf.reduce_mean(tf.nn.softmax_cross_entropy_with_logits_v2(logits=output, labels=lab))"
   ]
  },
  {
   "cell_type": "code",
   "execution_count": 19,
   "metadata": {},
   "outputs": [],
   "source": [
    "# Define training operation\n",
    "training = tf.train.AdamOptimizer(learning_rate).minimize(loss)"
   ]
  },
  {
   "cell_type": "code",
   "execution_count": 20,
   "metadata": {
    "collapsed": true
   },
   "outputs": [],
   "source": [
    "classification = tf.argmax(output, 1)"
   ]
  },
  {
   "cell_type": "code",
   "execution_count": 21,
   "metadata": {
    "collapsed": true
   },
   "outputs": [],
   "source": [
    "sess = tf.InteractiveSession()\n",
    "sess.run(tf.global_variables_initializer())"
   ]
  },
  {
   "cell_type": "code",
   "execution_count": 27,
   "metadata": {},
   "outputs": [
    {
     "name": "stdout",
     "output_type": "stream",
     "text": [
      "loss:  0.11564\n",
      "loss:  0.108532\n",
      "loss:  0.101802\n",
      "loss:  0.0953273\n",
      "loss:  0.0890979\n",
      "loss:  0.0831212\n",
      "loss:  0.0774244\n",
      "loss:  0.0720592\n",
      "loss:  0.0670658\n",
      "loss:  0.0624899\n"
     ]
    }
   ],
   "source": [
    "for i in range(10000):\n",
    "    sess.run(training, feed_dict={inputs: data, lab: labels})\n",
    "    if i % 1000 == 0:\n",
    "        print \"loss: \", loss.eval(feed_dict={inputs: data, lab: labels})"
   ]
  },
  {
   "cell_type": "markdown",
   "metadata": {},
   "source": [
    "# Part 4: Use the model"
   ]
  },
  {
   "cell_type": "code",
   "execution_count": 28,
   "metadata": {},
   "outputs": [],
   "source": [
    "# Make a python function for predicting based on raw data\n",
    "def predict(data):\n",
    "    return output.eval(feed_dict={inputs: data})"
   ]
  },
  {
   "cell_type": "code",
   "execution_count": 29,
   "metadata": {},
   "outputs": [],
   "source": [
    "# Use the function\n",
    "p = predict(data)[:, 1]"
   ]
  },
  {
   "cell_type": "code",
   "execution_count": 30,
   "metadata": {},
   "outputs": [
    {
     "data": {
      "image/png": "[encoded data removed]",
      "text/plain": [
       "<matplotlib.figure.Figure at 0x11674dc90>"
      ]
     },
     "metadata": {},
     "output_type": "display_data"
    }
   ],
   "source": [
    "# Plot output condifences for training set inputs. Darker values indicate bigger risk levels.\n",
    "plt.scatter(range(len(p)), values[10:-10], c=p)\n",
    "plt.show()"
   ]
  },
  {
   "cell_type": "code",
   "execution_count": null,
   "metadata": {
    "collapsed": true
   },
   "outputs": [],
   "source": []
  }
 ],
 "metadata": {
  "kernelspec": {
   "display_name": "Python 2",
   "language": "python",
   "name": "python2"
  },
  "language_info": {
   "codemirror_mode": {
    "name": "ipython",
    "version": 2
   },
   "file_extension": ".py",
   "mimetype": "text/x-python",
   "name": "python",
   "nbconvert_exporter": "python",
   "pygments_lexer": "ipython2",
   "version": "2.7.13"
  }
 },
 "nbformat": 4,
 "nbformat_minor": 2
}
